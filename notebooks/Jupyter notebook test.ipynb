{
 "cells": [
  {
   "cell_type": "code",
   "execution_count": 1,
   "id": "07afd7a7",
   "metadata": {},
   "outputs": [
    {
     "name": "stdout",
     "output_type": "stream",
     "text": [
      "Yay, my Data Science Win 11 setup is finally working with all connectivities!\n"
     ]
    }
   ],
   "source": [
    "print(\"Yay, my Data Science Win 11 setup is finally working with all connectivities!\")"
   ]
  },
  {
   "cell_type": "markdown",
   "id": "2696f80c",
   "metadata": {},
   "source": [
    "# Jupyter Notebook \n",
    "This is a trial set up for writing Python Code in Jupyter Notebook Environment"
   ]
  },
  {
   "cell_type": "code",
   "execution_count": 3,
   "id": "d14474b1",
   "metadata": {},
   "outputs": [
    {
     "name": "stdout",
     "output_type": "stream",
     "text": [
      "1491\n"
     ]
    }
   ],
   "source": [
    "x = 625\n",
    "y = 864\n",
    "z = (x + y)^2\n",
    "print(z)\n"
   ]
  }
 ],
 "metadata": {
  "kernelspec": {
   "display_name": "Python 3 (ipykernel)",
   "language": "python",
   "name": "python3"
  },
  "language_info": {
   "codemirror_mode": {
    "name": "ipython",
    "version": 3
   },
   "file_extension": ".py",
   "mimetype": "text/x-python",
   "name": "python",
   "nbconvert_exporter": "python",
   "pygments_lexer": "ipython3",
   "version": "3.9.7"
  }
 },
 "nbformat": 4,
 "nbformat_minor": 5
}
